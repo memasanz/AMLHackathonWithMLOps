{
  "cells": [
    {
      "cell_type": "markdown",
      "source": [
        "## MLOps with Azure ML Pipelines\n",
        "\n",
        "ML Pipeline - Training & Registration.  ML Pipelines can help you to build, optimize and manage your machine learning workflow. \n",
        "\n",
        "ML Pipelines encapsulate a workflow for a machine learning task.  Tasks often include:\n",
        "- Data Prep\n",
        "- Training \n",
        "- Publishing Models\n",
        "- Deployment of Models\n",
        "\n",
        "First we will set some key variables to be leveraged inside the notebook"
      ],
      "metadata": {}
    },
    {
      "cell_type": "code",
      "source": [
        "registered_env_name = \"experiment_env\"\n",
        "experiment_folder = 'devOps_train_pipeline'\n",
        "dataset_prefix_name = 'exp'\n",
        "cluster_name = \"mm-cluster\""
      ],
      "outputs": [],
      "execution_count": 1,
      "metadata": {
        "gather": {
          "logged": 1643611540880
        }
      }
    },
    {
      "cell_type": "markdown",
      "source": [
        "Import required packages"
      ],
      "metadata": {}
    },
    {
      "cell_type": "code",
      "source": [
        "# Import required packages\n",
        "from azureml.core import Workspace, Experiment, Datastore, Environment, Dataset\n",
        "from azureml.core.compute import ComputeTarget, AmlCompute, DataFactoryCompute\n",
        "from azureml.core.compute_target import ComputeTargetException\n",
        "from azureml.core.runconfig import RunConfiguration\n",
        "from azureml.core.conda_dependencies import CondaDependencies\n",
        "from azureml.core.runconfig import DEFAULT_CPU_IMAGE\n",
        "from azureml.pipeline.core import Pipeline, PipelineParameter, PipelineData\n",
        "from azureml.pipeline.steps import PythonScriptStep\n",
        "from azureml.pipeline.core import PipelineParameter, PipelineData\n",
        "from azureml.data.output_dataset_config import OutputTabularDatasetConfig, OutputDatasetConfig, OutputFileDatasetConfig\n",
        "from azureml.data.datapath import DataPath\n",
        "from azureml.data.data_reference import DataReference\n",
        "from azureml.data.sql_data_reference import SqlDataReference\n",
        "from azureml.pipeline.steps import DataTransferStep\n",
        "import logging"
      ],
      "outputs": [],
      "execution_count": 2,
      "metadata": {
        "gather": {
          "logged": 1643611545502
        }
      }
    },
    {
      "cell_type": "markdown",
      "source": [
        "### Connect to the workspace and create a cluster for running the AML Pipeline\n",
        "\n",
        "Connect to the AML workspace and the default datastore. To run an AML Pipeline, we will want to create compute if a compute cluster is not already available"
      ],
      "metadata": {}
    },
    {
      "cell_type": "code",
      "source": [
        "# Connect to AML Workspace\n",
        "ws = Workspace.from_config('./' + experiment_folder + '/config-dev.json')\n",
        "\n",
        "# Get the default datastore\n",
        "default_ds = ws.get_default_datastore()\n",
        "\n",
        "#Select AML Compute Cluster\n",
        "from azureml.core.compute import ComputeTarget, AmlCompute\n",
        "from azureml.core.compute_target import ComputeTargetException\n",
        "\n",
        "\n",
        "try:\n",
        "    # Check for existing compute target\n",
        "    pipeline_cluster = ComputeTarget(workspace=ws, name=cluster_name)\n",
        "    print('Found existing cluster, use it.')\n",
        "except ComputeTargetException:\n",
        "    # If it doesn't already exist, create it\n",
        "    try:\n",
        "        compute_config = AmlCompute.provisioning_configuration(vm_size='STANDARD_DS11_V2', max_nodes=2)\n",
        "        pipeline_cluster = ComputeTarget.create(ws, cluster_name, compute_config)\n",
        "        pipeline_cluster.wait_for_completion(show_output=True)\n",
        "    except Exception as ex:\n",
        "        print(ex)"
      ],
      "outputs": [
        {
          "output_type": "stream",
          "name": "stdout",
          "text": "Found existing cluster, use it.\n"
        }
      ],
      "execution_count": 3,
      "metadata": {
        "gather": {
          "logged": 1643611583414
        }
      }
    },
    {
      "cell_type": "markdown",
      "source": [
        "## Create Run configuration\n",
        "\n",
        "The RunConfiguration defines the environment used across all the python steps.  There are a variety of ways of setting up an environment.  An environment holds the required python packages needed for your code to execute on a compute cluster"
      ],
      "metadata": {}
    },
    {
      "cell_type": "code",
      "source": [],
      "outputs": [
        {
          "output_type": "stream",
          "name": "stdout",
          "text": "exp_train_pipeline\n"
        }
      ],
      "execution_count": 4,
      "metadata": {}
    },
    {
      "cell_type": "code",
      "source": [
        "#conda_yml_file = '../configuration/environment.yml'\n",
        "conda_yml_file = './'+ experiment_folder+ '/environment.yml'"
      ],
      "outputs": [],
      "execution_count": 5,
      "metadata": {}
    },
    {
      "cell_type": "code",
      "source": [],
      "outputs": [
        {
          "output_type": "stream",
          "name": "stdout",
          "text": "Overwriting ./exp_train_pipeline/environment.yml\n"
        }
      ],
      "execution_count": 6,
      "metadata": {}
    },
    {
      "cell_type": "code",
      "source": [
        "# Create a Python environment for the experiment (from a .yml file)\n",
        "env = Environment.from_conda_specification(\"experiment_env\", conda_yml_file)\n",
        "\n",
        "\n",
        "run_config = RunConfiguration()\n",
        "run_config.docker.use_docker = True\n",
        "run_config.environment = env\n",
        "run_config.environment.docker.base_image = DEFAULT_CPU_IMAGE"
      ],
      "outputs": [],
      "execution_count": 7,
      "metadata": {}
    },
    {
      "cell_type": "code",
      "source": [
        "registered_env_name"
      ],
      "outputs": [
        {
          "output_type": "execute_result",
          "execution_count": 8,
          "data": {
            "text/plain": "'experiment_env'"
          },
          "metadata": {}
        }
      ],
      "execution_count": 8,
      "metadata": {}
    },
    {
      "cell_type": "code",
      "source": [
        "from azureml.core import Environment\n",
        "from azureml.core.runconfig import RunConfiguration\n",
        "\n",
        "# Create a Python environment for the experiment (from a .yml file)\n",
        "experiment_env = Environment.from_conda_specification(registered_env_name, conda_yml_file)\n",
        "\n",
        "# Register the environment \n",
        "experiment_env.register(workspace=ws)\n",
        "registered_env = Environment.get(ws, registered_env_name)\n",
        "\n",
        "# Create a new runconfig object for the pipeline\n",
        "pipeline_run_config = RunConfiguration()\n",
        "\n",
        "# Use the compute you created above. \n",
        "pipeline_run_config.target = pipeline_cluster\n",
        "\n",
        "# Assign the environment to the run configuration\n",
        "pipeline_run_config.environment = registered_env\n",
        "\n",
        "print (\"Run configuration created.\")"
      ],
      "outputs": [
        {
          "output_type": "stream",
          "name": "stdout",
          "text": "Run configuration created.\n"
        }
      ],
      "execution_count": 9,
      "metadata": {}
    },
    {
      "cell_type": "markdown",
      "source": [
        "## Define Output datasets\n",
        "\n",
        "\n",
        "The **OutputFileDatasetConfig** object is a special kind of data reference that is used for interim storage locations that can be passed between pipeline steps, so you'll create one and use at as the output for the first step and the input for the second step. Note that you need to pass it as a script argument so your code can access the datastore location referenced by the data reference. \n",
        "\n",
        "Note, in all cases we specify the datastore that should hold the datasets and whether they should be registered following step completion or not. This can optionally be disabled by removing the register_on_complete() call.\n",
        "\n",
        "These can be viewed in the Datasets tab directly in the AML Portal"
      ],
      "metadata": {}
    },
    {
      "cell_type": "code",
      "source": [
        "#get data from storage location and save to exp_raw_data\n",
        "exp_raw_data       = OutputFileDatasetConfig(name='Exp_Raw_Data', destination=(default_ds, dataset_prefix_name + '_raw_data/{run-id}')).read_delimited_files().register_on_complete(name= dataset_prefix_name + '_Raw_Data')\n",
        "\n",
        "#data split into testing and training\n",
        "exp_training_data  = OutputFileDatasetConfig(name='Exp_Training_Data', destination=(default_ds, dataset_prefix_name + '_training_data/{run-id}')).read_delimited_files().register_on_complete(name=dataset_prefix_name + '_Training_Data')\n",
        "exp_testing_data   = OutputFileDatasetConfig(name='Exp_Testing_Data', destination=(default_ds, dataset_prefix_name + '_testing_data/{run-id}')).read_delimited_files().register_on_complete(name=dataset_prefix_name + '_Testing_Data')"
      ],
      "outputs": [],
      "execution_count": 10,
      "metadata": {}
    },
    {
      "cell_type": "markdown",
      "source": [
        "## Define Pipeline Data\n",
        "\n",
        "Data used in pipeline can be **produced by one step** and **consumed in another step** by providing a PipelineData object as an output of one step and an input of one or more subsequent steps\n",
        "\n",
        "This can be leveraged for moving a model from one step into another for model evaluation"
      ],
      "metadata": {}
    },
    {
      "cell_type": "markdown",
      "source": [
        "### Create Python Script Step"
      ],
      "metadata": {}
    },
    {
      "cell_type": "code",
      "source": [
        "get_data_step = PythonScriptStep(\n",
        "    name='Get Data',\n",
        "    script_name='get_data.py',\n",
        "    arguments =['--exp_raw_data', exp_raw_data],\n",
        "    outputs=[exp_raw_data],\n",
        "    compute_target=pipeline_cluster,\n",
        "    source_directory='./' + experiment_folder,\n",
        "    allow_reuse=False,\n",
        "    runconfig=pipeline_run_config\n",
        ")"
      ],
      "outputs": [],
      "execution_count": 11,
      "metadata": {}
    },
    {
      "cell_type": "markdown",
      "source": [
        "### Split Data Step"
      ],
      "metadata": {}
    },
    {
      "cell_type": "code",
      "source": [
        "split_scale_step = PythonScriptStep(\n",
        "    name='Split  Raw Data',\n",
        "    script_name='split.py',\n",
        "    arguments =['--exp_training_data', exp_training_data,\n",
        "                '--exp_testing_data', exp_testing_data],\n",
        "    inputs=[exp_raw_data.as_input(name='Exp_Raw_Data')],\n",
        "    outputs=[exp_training_data, exp_testing_data],\n",
        "    compute_target=pipeline_cluster,\n",
        "    source_directory='./' + experiment_folder,\n",
        "    allow_reuse=False,\n",
        "    runconfig=pipeline_run_config\n",
        ")"
      ],
      "outputs": [],
      "execution_count": 13,
      "metadata": {}
    },
    {
      "cell_type": "code",
      "source": [
        "### TrainingStep"
      ],
      "outputs": [],
      "execution_count": 15,
      "metadata": {}
    },
    {
      "cell_type": "code",
      "source": [
        "#Raw data will be preprocessed and registered as train/test datasets\n",
        "\n",
        "model_file = PipelineData(name='model_file', datastore=default_ds)\n",
        "\n",
        "#by specifying as input, it does not need to be included in the arguments\n",
        "train_model_step = PythonScriptStep(\n",
        "    name='Train',\n",
        "    script_name='train.py',\n",
        "    arguments =['--model_file_output', model_file],\n",
        "    inputs=[\n",
        "            exp_training_data.as_input(name='Exp_Training_Data'),\n",
        "            exp_testing_data.as_input(name='Exp_Testing_Data'),\n",
        "           ],\n",
        "    outputs = [model_file],\n",
        "    compute_target=pipeline_cluster,\n",
        "    source_directory='./' + experiment_folder,\n",
        "    allow_reuse=False,\n",
        "    runconfig=pipeline_run_config\n",
        ")\n"
      ],
      "outputs": [],
      "execution_count": 16,
      "metadata": {}
    },
    {
      "cell_type": "markdown",
      "source": [
        "### Evaluate Model Step"
      ],
      "metadata": {}
    },
    {
      "cell_type": "code",
      "source": [
        "#Evaluate and register model here\n",
        "#Compare metrics from current model and register if better than current\n",
        "#best model\n",
        "\n",
        "\n",
        "deploy_file = PipelineData(name='deploy_file', datastore=default_ds)\n",
        "\n",
        "evaluate_and_register_step = PythonScriptStep(\n",
        "    name='Evaluate and Register Model',\n",
        "    script_name='evaluate_and_register.py',\n",
        "    arguments=[\n",
        "        '--model_file', model_file,\n",
        "        '--deploy_file_output', deploy_file,       \n",
        "    ],\n",
        "    inputs=[model_file.as_input('model_file'),\n",
        "            exp_training_data.as_input(name='Exp_Training_Data'),\n",
        "            exp_testing_data.as_input(name='Exp_Testing_Data')\n",
        "           ],\n",
        "    outputs=[ deploy_file],\n",
        "    compute_target=pipeline_cluster,\n",
        "    source_directory='./' + experiment_folder,\n",
        "    allow_reuse=False,\n",
        "    runconfig=pipeline_run_config\n",
        ")"
      ],
      "outputs": [],
      "execution_count": 77,
      "metadata": {}
    },
    {
      "cell_type": "markdown",
      "source": [
        "### Deploy ACI"
      ],
      "metadata": {}
    },
    {
      "cell_type": "code",
      "source": [
        "# exp_deploy_pipeline_data = PipelineData(\n",
        "#         name='scoring_url_file', \n",
        "#         pipeline_output_name='scoring_url_file',\n",
        "#         datastore=default_ds,\n",
        "#         output_mode='mount',\n",
        "#         is_directory=False)\n",
        "\n",
        "scoring_file = PipelineData(name='scoring_file', datastore=default_ds)\n",
        "\n",
        "aci_service_name = 'diabetes-service-remote-training'\n",
        "registered_model_name = 'diabetes_model_remote'\n",
        "\n",
        "env_name = PipelineParameter(name='environment_name', default_value=registered_env_name)\n",
        "service_name = PipelineParameter(name='service_name', default_value=aci_service_name)\n",
        "model_name = PipelineParameter(name='model_name', default_value=registered_model_name)\n",
        "\n",
        "\n",
        "\n",
        "deploy_test = PythonScriptStep(\n",
        "    name='Deploy to ACI',\n",
        "    script_name='deployACI.py',\n",
        "    arguments=[\n",
        "        '--scoring_file_output', scoring_file,\n",
        "        '--deploy_file', deploy_file,\n",
        "        '--environment_name', env_name,\n",
        "        '--service_name', service_name,\n",
        "        '--model_name', model_name\n",
        "        \n",
        "    ],\n",
        "    inputs=[\n",
        "        deploy_file.as_input('deploy_file'),\n",
        "            \n",
        "    ],\n",
        "    outputs=[scoring_file],\n",
        "    compute_target=pipeline_cluster,\n",
        "    source_directory='./' + experiment_folder,\n",
        "    allow_reuse=False,\n",
        "    runconfig=pipeline_run_config\n",
        ")"
      ],
      "outputs": [],
      "execution_count": 79,
      "metadata": {}
    },
    {
      "cell_type": "markdown",
      "source": [
        "## Create Pipeline steps"
      ],
      "metadata": {}
    },
    {
      "cell_type": "markdown",
      "source": [
        "## Create Pipeline\n",
        "Create an Azure ML Pipeline by specifying the steps to be executed. Note: based on the dataset dependencies between steps, exection occurs logically such that no step will execute unless all of the necessary input datasets have been generated."
      ],
      "metadata": {}
    },
    {
      "cell_type": "code",
      "source": [
        "pipeline = Pipeline(workspace=ws, steps=[get_data_step, split_scale_step, train_model_step, evaluate_and_register_step, deploy_test])"
      ],
      "outputs": [],
      "execution_count": 82,
      "metadata": {}
    },
    {
      "cell_type": "code",
      "source": [
        "experiment = Experiment(ws, 'AML_Automation_DevOpsPipelineTraining')\n",
        "run = experiment.submit(pipeline)\n"
      ],
      "outputs": [
        {
          "output_type": "stream",
          "name": "stdout",
          "text": "Submitted PipelineRun 18ab20d5-6ff5-4421-8512-38894ae7ea0b\nLink to Azure Machine Learning Portal: https://ml.azure.com/runs/18ab20d5-6ff5-4421-8512-38894ae7ea0b?wsid=/subscriptions/5da07161-3770-4a4b-aa43-418cbbb627cf/resourcegroups/mm-aml-dev-ops-rg/workspaces/mm-aml-dev-ops&tid=72f988bf-86f1-41af-91ab-2d7cd011db47\n"
        }
      ],
      "execution_count": 86,
      "metadata": {}
    }
  ],
  "metadata": {
    "kernel_info": {
      "name": "python3-azureml"
    },
    "kernelspec": {
      "name": "python3-azureml",
      "language": "python",
      "display_name": "Python 3.6 - AzureML"
    },
    "language_info": {
      "name": "python",
      "version": "3.6.9",
      "mimetype": "text/x-python",
      "codemirror_mode": {
        "name": "ipython",
        "version": 3
      },
      "pygments_lexer": "ipython3",
      "nbconvert_exporter": "python",
      "file_extension": ".py"
    },
    "nteract": {
      "version": "nteract-front-end@1.0.0"
    }
  },
  "nbformat": 4,
  "nbformat_minor": 0
}